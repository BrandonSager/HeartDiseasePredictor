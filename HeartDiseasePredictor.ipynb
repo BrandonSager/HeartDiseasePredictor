{
 "cells": [
  {
   "cell_type": "markdown",
   "id": "413caf13",
   "metadata": {},
   "source": [
    " ## Heart Disease EDA, Prepocessing, Modeling"
   ]
  },
  {
   "cell_type": "markdown",
   "id": "03c73bf8",
   "metadata": {},
   "source": [
    "Step one: Exploratory Data Analysis using visualizations comparing the target 'TenYearCHD' to various features thay may contribute to developing heart disease."
   ]
  },
  {
   "cell_type": "code",
   "execution_count": 1,
   "id": "968ca462",
   "metadata": {},
   "outputs": [],
   "source": [
    "import pandas as pd\n",
    "import numpy as np\n",
    "import matplotlib.pyplot as plt\n",
    "import seaborn as sns"
   ]
  },
  {
   "cell_type": "code",
   "execution_count": 2,
   "id": "dd8b67e6",
   "metadata": {},
   "outputs": [],
   "source": [
    "data = pd.read_csv('C:/Users/mirid/Documents/BRANDON SAGER WORK/framingham.csv')"
   ]
  },
  {
   "cell_type": "code",
   "execution_count": 3,
   "id": "914c4ac1",
   "metadata": {},
   "outputs": [
    {
     "data": {
      "text/html": [
       "<div>\n",
       "<style scoped>\n",
       "    .dataframe tbody tr th:only-of-type {\n",
       "        vertical-align: middle;\n",
       "    }\n",
       "\n",
       "    .dataframe tbody tr th {\n",
       "        vertical-align: top;\n",
       "    }\n",
       "\n",
       "    .dataframe thead th {\n",
       "        text-align: right;\n",
       "    }\n",
       "</style>\n",
       "<table border=\"1\" class=\"dataframe\">\n",
       "  <thead>\n",
       "    <tr style=\"text-align: right;\">\n",
       "      <th></th>\n",
       "      <th>Sex</th>\n",
       "      <th>age</th>\n",
       "      <th>education</th>\n",
       "      <th>currentSmoker</th>\n",
       "      <th>cigsPerDay</th>\n",
       "      <th>BPMeds</th>\n",
       "      <th>prevalentStroke</th>\n",
       "      <th>prevalentHyp</th>\n",
       "      <th>diabetes</th>\n",
       "      <th>totChol</th>\n",
       "      <th>sysBP</th>\n",
       "      <th>diaBP</th>\n",
       "      <th>BMI</th>\n",
       "      <th>heartRate</th>\n",
       "      <th>glucose</th>\n",
       "      <th>TenYearCHD</th>\n",
       "    </tr>\n",
       "  </thead>\n",
       "  <tbody>\n",
       "    <tr>\n",
       "      <th>0</th>\n",
       "      <td>male</td>\n",
       "      <td>39</td>\n",
       "      <td>4.0</td>\n",
       "      <td>No</td>\n",
       "      <td>0.0</td>\n",
       "      <td>0.0</td>\n",
       "      <td>0</td>\n",
       "      <td>0</td>\n",
       "      <td>No</td>\n",
       "      <td>195.0</td>\n",
       "      <td>106.0</td>\n",
       "      <td>70.0</td>\n",
       "      <td>26.97</td>\n",
       "      <td>80.0</td>\n",
       "      <td>77.0</td>\n",
       "      <td>0</td>\n",
       "    </tr>\n",
       "    <tr>\n",
       "      <th>1</th>\n",
       "      <td>female</td>\n",
       "      <td>46</td>\n",
       "      <td>2.0</td>\n",
       "      <td>No</td>\n",
       "      <td>0.0</td>\n",
       "      <td>0.0</td>\n",
       "      <td>0</td>\n",
       "      <td>0</td>\n",
       "      <td>No</td>\n",
       "      <td>250.0</td>\n",
       "      <td>121.0</td>\n",
       "      <td>81.0</td>\n",
       "      <td>28.73</td>\n",
       "      <td>95.0</td>\n",
       "      <td>76.0</td>\n",
       "      <td>0</td>\n",
       "    </tr>\n",
       "    <tr>\n",
       "      <th>2</th>\n",
       "      <td>male</td>\n",
       "      <td>48</td>\n",
       "      <td>1.0</td>\n",
       "      <td>Yes</td>\n",
       "      <td>20.0</td>\n",
       "      <td>0.0</td>\n",
       "      <td>0</td>\n",
       "      <td>0</td>\n",
       "      <td>No</td>\n",
       "      <td>245.0</td>\n",
       "      <td>127.5</td>\n",
       "      <td>80.0</td>\n",
       "      <td>25.34</td>\n",
       "      <td>75.0</td>\n",
       "      <td>70.0</td>\n",
       "      <td>0</td>\n",
       "    </tr>\n",
       "    <tr>\n",
       "      <th>3</th>\n",
       "      <td>female</td>\n",
       "      <td>61</td>\n",
       "      <td>3.0</td>\n",
       "      <td>Yes</td>\n",
       "      <td>30.0</td>\n",
       "      <td>0.0</td>\n",
       "      <td>0</td>\n",
       "      <td>1</td>\n",
       "      <td>No</td>\n",
       "      <td>225.0</td>\n",
       "      <td>150.0</td>\n",
       "      <td>95.0</td>\n",
       "      <td>28.58</td>\n",
       "      <td>65.0</td>\n",
       "      <td>103.0</td>\n",
       "      <td>1</td>\n",
       "    </tr>\n",
       "    <tr>\n",
       "      <th>4</th>\n",
       "      <td>female</td>\n",
       "      <td>46</td>\n",
       "      <td>3.0</td>\n",
       "      <td>Yes</td>\n",
       "      <td>23.0</td>\n",
       "      <td>0.0</td>\n",
       "      <td>0</td>\n",
       "      <td>0</td>\n",
       "      <td>No</td>\n",
       "      <td>285.0</td>\n",
       "      <td>130.0</td>\n",
       "      <td>84.0</td>\n",
       "      <td>23.10</td>\n",
       "      <td>85.0</td>\n",
       "      <td>85.0</td>\n",
       "      <td>0</td>\n",
       "    </tr>\n",
       "  </tbody>\n",
       "</table>\n",
       "</div>"
      ],
      "text/plain": [
       "      Sex  age  education currentSmoker  cigsPerDay  BPMeds  prevalentStroke  \\\n",
       "0    male   39        4.0            No         0.0     0.0                0   \n",
       "1  female   46        2.0            No         0.0     0.0                0   \n",
       "2    male   48        1.0           Yes        20.0     0.0                0   \n",
       "3  female   61        3.0           Yes        30.0     0.0                0   \n",
       "4  female   46        3.0           Yes        23.0     0.0                0   \n",
       "\n",
       "   prevalentHyp diabetes  totChol  sysBP  diaBP    BMI  heartRate  glucose  \\\n",
       "0             0       No    195.0  106.0   70.0  26.97       80.0     77.0   \n",
       "1             0       No    250.0  121.0   81.0  28.73       95.0     76.0   \n",
       "2             0       No    245.0  127.5   80.0  25.34       75.0     70.0   \n",
       "3             1       No    225.0  150.0   95.0  28.58       65.0    103.0   \n",
       "4             0       No    285.0  130.0   84.0  23.10       85.0     85.0   \n",
       "\n",
       "   TenYearCHD  \n",
       "0           0  \n",
       "1           0  \n",
       "2           0  \n",
       "3           1  \n",
       "4           0  "
      ]
     },
     "execution_count": 3,
     "metadata": {},
     "output_type": "execute_result"
    }
   ],
   "source": [
    "data.head()"
   ]
  },
  {
   "cell_type": "code",
   "execution_count": 4,
   "id": "ffb9083c",
   "metadata": {},
   "outputs": [
    {
     "data": {
      "text/plain": [
       "<AxesSubplot:xlabel='education', ylabel='count'>"
      ]
     },
     "execution_count": 4,
     "metadata": {},
     "output_type": "execute_result"
    },
    {
     "data": {
      "image/png": "[encoded data removed]",
      "text/plain": [
       "<Figure size 432x288 with 1 Axes>"
      ]
     },
     "metadata": {
      "needs_background": "light"
     },
     "output_type": "display_data"
    }
   ],
   "source": [
    "sns.countplot(x='education',data=data)"
   ]
  },
  {
   "cell_type": "code",
   "execution_count": 5,
   "id": "7c5d9bee",
   "metadata": {},
   "outputs": [
    {
     "data": {
      "text/plain": [
       "<seaborn.axisgrid.FacetGrid at 0x247a8070460>"
      ]
     },
     "execution_count": 5,
     "metadata": {},
     "output_type": "execute_result"
    },
    {
     "data": {
      "image/png": "[encoded data removed]",
      "text/plain": [
       "<Figure size 360x360 with 1 Axes>"
      ]
     },
     "metadata": {
      "needs_background": "light"
     },
     "output_type": "display_data"
    }
   ],
   "source": [
    "sns.catplot(x='TenYearCHD',y='cigsPerDay',kind='bar',data=data)"
   ]
  },
  {
   "cell_type": "code",
   "execution_count": 6,
   "id": "901150e3",
   "metadata": {},
   "outputs": [
    {
     "data": {
      "text/plain": [
       "<matplotlib.legend.Legend at 0x247a80bb670>"
      ]
     },
     "execution_count": 6,
     "metadata": {},
     "output_type": "execute_result"
    },
    {
     "data": {
      "image/png": "[encoded data removed]",
      "text/plain": [
       "<Figure size 432x288 with 1 Axes>"
      ]
     },
     "metadata": {
      "needs_background": "light"
     },
     "output_type": "display_data"
    }
   ],
   "source": [
    "sns.boxplot(x='TenYearCHD',y='age',hue='currentSmoker',data=data)\n",
    "plt.legend(bbox_to_anchor=(1.05,1))"
   ]
  },
  {
   "cell_type": "code",
   "execution_count": 7,
   "id": "59a9d191",
   "metadata": {},
   "outputs": [
    {
     "data": {
      "text/plain": [
       "<AxesSubplot:xlabel='TenYearCHD', ylabel='totChol'>"
      ]
     },
     "execution_count": 7,
     "metadata": {},
     "output_type": "execute_result"
    },
    {
     "data": {
      "image/png": "[encoded data removed]",
      "text/plain": [
       "<Figure size 432x288 with 1 Axes>"
      ]
     },
     "metadata": {
      "needs_background": "light"
     },
     "output_type": "display_data"
    }
   ],
   "source": [
    "sns.boxplot(x='TenYearCHD',y='totChol',data=data)"
   ]
  },
  {
   "cell_type": "code",
   "execution_count": 8,
   "id": "35bf9499",
   "metadata": {},
   "outputs": [
    {
     "data": {
      "text/plain": [
       "<seaborn.axisgrid.FacetGrid at 0x247a92a2400>"
      ]
     },
     "execution_count": 8,
     "metadata": {},
     "output_type": "execute_result"
    },
    {
     "data": {
      "image/png": "[encoded data removed]",
      "text/plain": [
       "<Figure size 360x360 with 1 Axes>"
      ]
     },
     "metadata": {
      "needs_background": "light"
     },
     "output_type": "display_data"
    }
   ],
   "source": [
    "sns.catplot(x='TenYearCHD',y='sysBP',kind='bar',data=data)"
   ]
  },
  {
   "cell_type": "code",
   "execution_count": 9,
   "id": "89ebea32",
   "metadata": {},
   "outputs": [
    {
     "data": {
      "text/plain": [
       "<seaborn.axisgrid.FacetGrid at 0x247a9181ac0>"
      ]
     },
     "execution_count": 9,
     "metadata": {},
     "output_type": "execute_result"
    },
    {
     "data": {
      "image/png": "[encoded data removed]",
      "text/plain": [
       "<Figure size 360x360 with 1 Axes>"
      ]
     },
     "metadata": {
      "needs_background": "light"
     },
     "output_type": "display_data"
    }
   ],
   "source": [
    "sns.catplot(x='TenYearCHD',y='diaBP',kind='bar',data=data)"
   ]
  },
  {
   "cell_type": "code",
   "execution_count": 10,
   "id": "e5e2dd7d",
   "metadata": {},
   "outputs": [
    {
     "data": {
      "text/plain": [
       "<seaborn.axisgrid.FacetGrid at 0x247a91e5460>"
      ]
     },
     "execution_count": 10,
     "metadata": {},
     "output_type": "execute_result"
    },
    {
     "data": {
      "image/png": "[encoded data removed]",
      "text/plain": [
       "<Figure size 360x360 with 1 Axes>"
      ]
     },
     "metadata": {
      "needs_background": "light"
     },
     "output_type": "display_data"
    }
   ],
   "source": [
    "sns.catplot(x='TenYearCHD',y='BMI',kind='bar',data=data)"
   ]
  },
  {
   "cell_type": "code",
   "execution_count": 11,
   "id": "76a8acc7",
   "metadata": {},
   "outputs": [
    {
     "data": {
      "text/plain": [
       "<seaborn.axisgrid.FacetGrid at 0x247a9344250>"
      ]
     },
     "execution_count": 11,
     "metadata": {},
     "output_type": "execute_result"
    },
    {
     "data": {
      "image/png": "[encoded data removed]",
      "text/plain": [
       "<Figure size 360x360 with 1 Axes>"
      ]
     },
     "metadata": {
      "needs_background": "light"
     },
     "output_type": "display_data"
    }
   ],
   "source": [
    "sns.catplot(x='TenYearCHD',y='BPMeds',kind='bar',data=data)"
   ]
  },
  {
   "cell_type": "markdown",
   "id": "922391b2",
   "metadata": {},
   "source": [
    "## Preprocessing the data, dealing with missing values."
   ]
  },
  {
   "cell_type": "code",
   "execution_count": 12,
   "id": "435e2abe",
   "metadata": {},
   "outputs": [
    {
     "name": "stdout",
     "output_type": "stream",
     "text": [
      "<class 'pandas.core.frame.DataFrame'>\n",
      "RangeIndex: 4240 entries, 0 to 4239\n",
      "Data columns (total 16 columns):\n",
      " #   Column           Non-Null Count  Dtype  \n",
      "---  ------           --------------  -----  \n",
      " 0   Sex              4240 non-null   object \n",
      " 1   age              4240 non-null   int64  \n",
      " 2   education        4135 non-null   float64\n",
      " 3   currentSmoker    4240 non-null   object \n",
      " 4   cigsPerDay       4211 non-null   float64\n",
      " 5   BPMeds           4187 non-null   float64\n",
      " 6   prevalentStroke  4240 non-null   int64  \n",
      " 7   prevalentHyp     4240 non-null   int64  \n",
      " 8   diabetes         4240 non-null   object \n",
      " 9   totChol          4190 non-null   float64\n",
      " 10  sysBP            4240 non-null   float64\n",
      " 11  diaBP            4240 non-null   float64\n",
      " 12  BMI              4221 non-null   float64\n",
      " 13  heartRate        4239 non-null   float64\n",
      " 14  glucose          3852 non-null   float64\n",
      " 15  TenYearCHD       4240 non-null   int64  \n",
      "dtypes: float64(9), int64(4), object(3)\n",
      "memory usage: 530.1+ KB\n"
     ]
    }
   ],
   "source": [
    "data.info()"
   ]
  },
  {
   "cell_type": "code",
   "execution_count": 13,
   "id": "ea9bc49c",
   "metadata": {},
   "outputs": [
    {
     "data": {
      "text/plain": [
       "Sex                  0\n",
       "age                  0\n",
       "education          105\n",
       "currentSmoker        0\n",
       "cigsPerDay          29\n",
       "BPMeds              53\n",
       "prevalentStroke      0\n",
       "prevalentHyp         0\n",
       "diabetes             0\n",
       "totChol             50\n",
       "sysBP                0\n",
       "diaBP                0\n",
       "BMI                 19\n",
       "heartRate            1\n",
       "glucose            388\n",
       "TenYearCHD           0\n",
       "dtype: int64"
      ]
     },
     "execution_count": 13,
     "metadata": {},
     "output_type": "execute_result"
    }
   ],
   "source": [
    "missing_values = data.isnull().sum()\n",
    "missing_values"
   ]
  },
  {
   "cell_type": "markdown",
   "id": "b9221ee9",
   "metadata": {},
   "source": [
    "Dropping missing education section, nearly impossible to impute accurately."
   ]
  },
  {
   "cell_type": "code",
   "execution_count": 14,
   "id": "64303005",
   "metadata": {},
   "outputs": [
    {
     "data": {
      "text/plain": [
       "Int64Index([  33,   36,   72,  184,  213,  293,  305,  306,  319,  400,\n",
       "            ...\n",
       "            3764, 3868, 3873, 3943, 4012, 4082, 4098, 4121, 4122, 4138],\n",
       "           dtype='int64', length=105)"
      ]
     },
     "execution_count": 14,
     "metadata": {},
     "output_type": "execute_result"
    }
   ],
   "source": [
    "edu_missing = data[data['education'].isnull()].index\n",
    "edu_missing"
   ]
  },
  {
   "cell_type": "code",
   "execution_count": 15,
   "id": "606fa80f",
   "metadata": {},
   "outputs": [],
   "source": [
    "data = data.drop(edu_missing)"
   ]
  },
  {
   "cell_type": "code",
   "execution_count": 16,
   "id": "50d305da",
   "metadata": {},
   "outputs": [
    {
     "data": {
      "text/plain": [
       "Sex                  0\n",
       "age                  0\n",
       "education            0\n",
       "currentSmoker        0\n",
       "cigsPerDay          27\n",
       "BPMeds              53\n",
       "prevalentStroke      0\n",
       "prevalentHyp         0\n",
       "diabetes             0\n",
       "totChol             49\n",
       "sysBP                0\n",
       "diaBP                0\n",
       "BMI                 18\n",
       "heartRate            1\n",
       "glucose            380\n",
       "TenYearCHD           0\n",
       "dtype: int64"
      ]
     },
     "execution_count": 16,
     "metadata": {},
     "output_type": "execute_result"
    }
   ],
   "source": [
    "data.isnull().sum()"
   ]
  },
  {
   "cell_type": "markdown",
   "id": "4bf764fe",
   "metadata": {},
   "source": [
    "Cigarettes per day can be imputed by referencing the \"current_smoke_status\" data and then filling nonsmokers and smokers accordingly with \"0\" and median cigarrettes per day."
   ]
  },
  {
   "cell_type": "code",
   "execution_count": 17,
   "id": "bdff0f50",
   "metadata": {},
   "outputs": [
    {
     "data": {
      "text/plain": [
       "Int64Index([ 131,  139, 1046, 1292, 1347, 1451, 1497, 1610, 1625, 1870, 1963,\n",
       "            1980, 2405, 2513, 3021, 3094, 3106, 3108, 3156, 3177, 3309, 3432,\n",
       "            3579, 3715, 3847, 3924, 3942],\n",
       "           dtype='int64')"
      ]
     },
     "execution_count": 17,
     "metadata": {},
     "output_type": "execute_result"
    }
   ],
   "source": [
    "cigs_day_index = data[data['cigsPerDay'].isnull()].index\n",
    "cigs_day_index"
   ]
  },
  {
   "cell_type": "code",
   "execution_count": 18,
   "id": "81e53774",
   "metadata": {},
   "outputs": [
    {
     "data": {
      "text/plain": [
       "['Yes',\n",
       " 'Yes',\n",
       " 'Yes',\n",
       " 'Yes',\n",
       " 'Yes',\n",
       " 'Yes',\n",
       " 'Yes',\n",
       " 'Yes',\n",
       " 'Yes',\n",
       " 'Yes',\n",
       " 'Yes',\n",
       " 'Yes',\n",
       " 'Yes',\n",
       " 'Yes',\n",
       " 'Yes',\n",
       " 'Yes',\n",
       " 'Yes',\n",
       " 'Yes',\n",
       " 'Yes',\n",
       " 'Yes',\n",
       " 'Yes',\n",
       " 'Yes',\n",
       " 'Yes',\n",
       " 'Yes',\n",
       " 'Yes',\n",
       " 'Yes',\n",
       " 'Yes']"
      ]
     },
     "execution_count": 18,
     "metadata": {},
     "output_type": "execute_result"
    }
   ],
   "source": [
    "smoking_status = []\n",
    "for i in cigs_day_index:\n",
    "    smoking_status.append(data['currentSmoker'][i])\n",
    "\n",
    "smoking_status"
   ]
  },
  {
   "cell_type": "markdown",
   "id": "a20e825f",
   "metadata": {},
   "source": [
    "There are no 'cigsPerDay' missing values for Non-smokers."
   ]
  },
  {
   "cell_type": "code",
   "execution_count": 19,
   "id": "f1eeb8be",
   "metadata": {},
   "outputs": [
    {
     "data": {
      "text/plain": [
       "Int64Index([   2,    3,    4,    7,    9,   12,   14,   15,   16,   17,\n",
       "            ...\n",
       "            4224, 4225, 4227, 4229, 4230, 4233, 4234, 4235, 4236, 4239],\n",
       "           dtype='int64', length=2046)"
      ]
     },
     "execution_count": 19,
     "metadata": {},
     "output_type": "execute_result"
    }
   ],
   "source": [
    "smokers = data[data['currentSmoker']=='Yes'].index\n",
    "smokers"
   ]
  },
  {
   "cell_type": "code",
   "execution_count": 20,
   "id": "6b1b37a4",
   "metadata": {},
   "outputs": [],
   "source": [
    "cigarettes_by_smokers = []\n",
    "for i in smokers:\n",
    "    if data['cigsPerDay'][i]!='nan':\n",
    "        cigarettes_by_smokers.append(data['cigsPerDay'][i])"
   ]
  },
  {
   "cell_type": "code",
   "execution_count": 21,
   "id": "cbbe6806",
   "metadata": {},
   "outputs": [
    {
     "data": {
      "text/plain": [
       "2046"
      ]
     },
     "execution_count": 21,
     "metadata": {},
     "output_type": "execute_result"
    }
   ],
   "source": [
    "len(cigarettes_by_smokers)"
   ]
  },
  {
   "cell_type": "code",
   "execution_count": 22,
   "id": "11b866a9",
   "metadata": {},
   "outputs": [],
   "source": [
    "import statistics"
   ]
  },
  {
   "cell_type": "code",
   "execution_count": 23,
   "id": "0a850630",
   "metadata": {},
   "outputs": [
    {
     "data": {
      "text/plain": [
       "20.0"
      ]
     },
     "execution_count": 23,
     "metadata": {},
     "output_type": "execute_result"
    }
   ],
   "source": [
    "smoker_median = statistics.median(cigarettes_by_smokers)\n",
    "smoker_median"
   ]
  },
  {
   "cell_type": "code",
   "execution_count": 24,
   "id": "bb2f4687",
   "metadata": {},
   "outputs": [],
   "source": [
    "data['cigsPerDay'] = data['cigsPerDay'].fillna(smoker_median)"
   ]
  },
  {
   "cell_type": "code",
   "execution_count": 25,
   "id": "81131799",
   "metadata": {},
   "outputs": [
    {
     "data": {
      "text/plain": [
       "Sex                  0\n",
       "age                  0\n",
       "education            0\n",
       "currentSmoker        0\n",
       "cigsPerDay           0\n",
       "BPMeds              53\n",
       "prevalentStroke      0\n",
       "prevalentHyp         0\n",
       "diabetes             0\n",
       "totChol             49\n",
       "sysBP                0\n",
       "diaBP                0\n",
       "BMI                 18\n",
       "heartRate            1\n",
       "glucose            380\n",
       "TenYearCHD           0\n",
       "dtype: int64"
      ]
     },
     "execution_count": 25,
     "metadata": {},
     "output_type": "execute_result"
    }
   ],
   "source": [
    "data.isnull().sum()"
   ]
  },
  {
   "cell_type": "markdown",
   "id": "d5fff539",
   "metadata": {},
   "source": [
    "For BPMed missing values, refering to blood pressure. If sysBP is greater than 140 and/or diaBP is greater than 90, setting BPMed to 1, otherwise setting to 0."
   ]
  },
  {
   "cell_type": "code",
   "execution_count": 26,
   "id": "aac7608b",
   "metadata": {},
   "outputs": [],
   "source": [
    "BP_missing_index = data[data['BPMeds'].isnull()].index\n",
    "BP_missing_index\n",
    "\n",
    "for i in BP_missing_index:\n",
    "    if (data['sysBP'][i] > 140 or data['diaBP'][i] > 90):\n",
    "        data.loc[i,'BPMeds'] = 1.0\n",
    "    else:\n",
    "        data.loc[i,'BPMeds'] = 0.0\n",
    "        "
   ]
  },
  {
   "cell_type": "code",
   "execution_count": 27,
   "id": "b2c196f1",
   "metadata": {},
   "outputs": [
    {
     "data": {
      "text/plain": [
       "Sex                  0\n",
       "age                  0\n",
       "education            0\n",
       "currentSmoker        0\n",
       "cigsPerDay           0\n",
       "BPMeds               0\n",
       "prevalentStroke      0\n",
       "prevalentHyp         0\n",
       "diabetes             0\n",
       "totChol             49\n",
       "sysBP                0\n",
       "diaBP                0\n",
       "BMI                 18\n",
       "heartRate            1\n",
       "glucose            380\n",
       "TenYearCHD           0\n",
       "dtype: int64"
      ]
     },
     "execution_count": 27,
     "metadata": {},
     "output_type": "execute_result"
    }
   ],
   "source": [
    "data.isnull().sum()"
   ]
  },
  {
   "cell_type": "markdown",
   "id": "0e8364ae",
   "metadata": {},
   "source": [
    "The rest of the missing values will be filled with mean values. Imputing this way is appropriate because the size of the dataset and the nature of the features that the remaining missing values are in."
   ]
  },
  {
   "cell_type": "code",
   "execution_count": 28,
   "id": "1aa18228",
   "metadata": {},
   "outputs": [],
   "source": [
    "data['totChol'] = data['totChol'].fillna(round(data['totChol'].mean()))"
   ]
  },
  {
   "cell_type": "code",
   "execution_count": 29,
   "id": "d05392b7",
   "metadata": {},
   "outputs": [],
   "source": [
    "data['BMI'] = data['BMI'].fillna(data['BMI'].mean())"
   ]
  },
  {
   "cell_type": "code",
   "execution_count": 30,
   "id": "809c1b83",
   "metadata": {},
   "outputs": [],
   "source": [
    "data['glucose'] = data['glucose'].fillna(round(data['glucose'].mean()))"
   ]
  },
  {
   "cell_type": "code",
   "execution_count": 31,
   "id": "2e5db342",
   "metadata": {},
   "outputs": [],
   "source": [
    "#Will use backfill for single missing value in 'heartRate'\n",
    "\n",
    "data['heartRate'] = data['heartRate'].fillna(method='bfill',axis=0)"
   ]
  },
  {
   "cell_type": "code",
   "execution_count": 32,
   "id": "7e25fdd9",
   "metadata": {},
   "outputs": [
    {
     "data": {
      "text/plain": [
       "Sex                0\n",
       "age                0\n",
       "education          0\n",
       "currentSmoker      0\n",
       "cigsPerDay         0\n",
       "BPMeds             0\n",
       "prevalentStroke    0\n",
       "prevalentHyp       0\n",
       "diabetes           0\n",
       "totChol            0\n",
       "sysBP              0\n",
       "diaBP              0\n",
       "BMI                0\n",
       "heartRate          0\n",
       "glucose            0\n",
       "TenYearCHD         0\n",
       "dtype: int64"
      ]
     },
     "execution_count": 32,
     "metadata": {},
     "output_type": "execute_result"
    }
   ],
   "source": [
    "data.isnull().sum()"
   ]
  },
  {
   "cell_type": "code",
   "execution_count": 33,
   "id": "cae6a5c1",
   "metadata": {},
   "outputs": [],
   "source": [
    "sex = pd.get_dummies(data.Sex, drop_first=True)\n",
    "data['sex'] = sex\n",
    "data.drop('Sex',axis=1,inplace=True)"
   ]
  },
  {
   "cell_type": "code",
   "execution_count": 34,
   "id": "d05f3dd7",
   "metadata": {},
   "outputs": [],
   "source": [
    "No_Diabetes = pd.get_dummies(data.diabetes,drop_first=True)\n",
    "data['No_Diabetes'] = No_Diabetes\n",
    "data.drop('diabetes',axis=1,inplace=True)"
   ]
  },
  {
   "cell_type": "code",
   "execution_count": 36,
   "id": "65f324b3",
   "metadata": {},
   "outputs": [],
   "source": [
    "Non_Smoker = pd.get_dummies(data.currentSmoker,drop_first=True)\n",
    "data['Non_Smoker'] = Non_Smoker\n",
    "data.drop('currentSmoker',axis=1,inplace=True)"
   ]
  },
  {
   "cell_type": "code",
   "execution_count": 37,
   "id": "43c18b33",
   "metadata": {},
   "outputs": [
    {
     "data": {
      "text/html": [
       "<div>\n",
       "<style scoped>\n",
       "    .dataframe tbody tr th:only-of-type {\n",
       "        vertical-align: middle;\n",
       "    }\n",
       "\n",
       "    .dataframe tbody tr th {\n",
       "        vertical-align: top;\n",
       "    }\n",
       "\n",
       "    .dataframe thead th {\n",
       "        text-align: right;\n",
       "    }\n",
       "</style>\n",
       "<table border=\"1\" class=\"dataframe\">\n",
       "  <thead>\n",
       "    <tr style=\"text-align: right;\">\n",
       "      <th></th>\n",
       "      <th>age</th>\n",
       "      <th>education</th>\n",
       "      <th>cigsPerDay</th>\n",
       "      <th>BPMeds</th>\n",
       "      <th>prevalentStroke</th>\n",
       "      <th>prevalentHyp</th>\n",
       "      <th>totChol</th>\n",
       "      <th>sysBP</th>\n",
       "      <th>diaBP</th>\n",
       "      <th>BMI</th>\n",
       "      <th>heartRate</th>\n",
       "      <th>glucose</th>\n",
       "      <th>TenYearCHD</th>\n",
       "      <th>sex</th>\n",
       "      <th>No_Diabetes</th>\n",
       "      <th>Non_Smoker</th>\n",
       "    </tr>\n",
       "  </thead>\n",
       "  <tbody>\n",
       "    <tr>\n",
       "      <th>0</th>\n",
       "      <td>39</td>\n",
       "      <td>4.0</td>\n",
       "      <td>0.0</td>\n",
       "      <td>0.0</td>\n",
       "      <td>0</td>\n",
       "      <td>0</td>\n",
       "      <td>195.0</td>\n",
       "      <td>106.0</td>\n",
       "      <td>70.0</td>\n",
       "      <td>26.97</td>\n",
       "      <td>80.0</td>\n",
       "      <td>77.0</td>\n",
       "      <td>0</td>\n",
       "      <td>1</td>\n",
       "      <td>0</td>\n",
       "      <td>0</td>\n",
       "    </tr>\n",
       "    <tr>\n",
       "      <th>1</th>\n",
       "      <td>46</td>\n",
       "      <td>2.0</td>\n",
       "      <td>0.0</td>\n",
       "      <td>0.0</td>\n",
       "      <td>0</td>\n",
       "      <td>0</td>\n",
       "      <td>250.0</td>\n",
       "      <td>121.0</td>\n",
       "      <td>81.0</td>\n",
       "      <td>28.73</td>\n",
       "      <td>95.0</td>\n",
       "      <td>76.0</td>\n",
       "      <td>0</td>\n",
       "      <td>0</td>\n",
       "      <td>0</td>\n",
       "      <td>0</td>\n",
       "    </tr>\n",
       "    <tr>\n",
       "      <th>2</th>\n",
       "      <td>48</td>\n",
       "      <td>1.0</td>\n",
       "      <td>20.0</td>\n",
       "      <td>0.0</td>\n",
       "      <td>0</td>\n",
       "      <td>0</td>\n",
       "      <td>245.0</td>\n",
       "      <td>127.5</td>\n",
       "      <td>80.0</td>\n",
       "      <td>25.34</td>\n",
       "      <td>75.0</td>\n",
       "      <td>70.0</td>\n",
       "      <td>0</td>\n",
       "      <td>1</td>\n",
       "      <td>0</td>\n",
       "      <td>1</td>\n",
       "    </tr>\n",
       "    <tr>\n",
       "      <th>3</th>\n",
       "      <td>61</td>\n",
       "      <td>3.0</td>\n",
       "      <td>30.0</td>\n",
       "      <td>0.0</td>\n",
       "      <td>0</td>\n",
       "      <td>1</td>\n",
       "      <td>225.0</td>\n",
       "      <td>150.0</td>\n",
       "      <td>95.0</td>\n",
       "      <td>28.58</td>\n",
       "      <td>65.0</td>\n",
       "      <td>103.0</td>\n",
       "      <td>1</td>\n",
       "      <td>0</td>\n",
       "      <td>0</td>\n",
       "      <td>1</td>\n",
       "    </tr>\n",
       "    <tr>\n",
       "      <th>4</th>\n",
       "      <td>46</td>\n",
       "      <td>3.0</td>\n",
       "      <td>23.0</td>\n",
       "      <td>0.0</td>\n",
       "      <td>0</td>\n",
       "      <td>0</td>\n",
       "      <td>285.0</td>\n",
       "      <td>130.0</td>\n",
       "      <td>84.0</td>\n",
       "      <td>23.10</td>\n",
       "      <td>85.0</td>\n",
       "      <td>85.0</td>\n",
       "      <td>0</td>\n",
       "      <td>0</td>\n",
       "      <td>0</td>\n",
       "      <td>1</td>\n",
       "    </tr>\n",
       "  </tbody>\n",
       "</table>\n",
       "</div>"
      ],
      "text/plain": [
       "   age  education  cigsPerDay  BPMeds  prevalentStroke  prevalentHyp  totChol  \\\n",
       "0   39        4.0         0.0     0.0                0             0    195.0   \n",
       "1   46        2.0         0.0     0.0                0             0    250.0   \n",
       "2   48        1.0        20.0     0.0                0             0    245.0   \n",
       "3   61        3.0        30.0     0.0                0             1    225.0   \n",
       "4   46        3.0        23.0     0.0                0             0    285.0   \n",
       "\n",
       "   sysBP  diaBP    BMI  heartRate  glucose  TenYearCHD  sex  No_Diabetes  \\\n",
       "0  106.0   70.0  26.97       80.0     77.0           0    1            0   \n",
       "1  121.0   81.0  28.73       95.0     76.0           0    0            0   \n",
       "2  127.5   80.0  25.34       75.0     70.0           0    1            0   \n",
       "3  150.0   95.0  28.58       65.0    103.0           1    0            0   \n",
       "4  130.0   84.0  23.10       85.0     85.0           0    0            0   \n",
       "\n",
       "   Non_Smoker  \n",
       "0           0  \n",
       "1           0  \n",
       "2           1  \n",
       "3           1  \n",
       "4           1  "
      ]
     },
     "execution_count": 37,
     "metadata": {},
     "output_type": "execute_result"
    }
   ],
   "source": [
    "data.head()"
   ]
  },
  {
   "cell_type": "markdown",
   "id": "9b7adb81",
   "metadata": {},
   "source": [
    "## Feature Engineering"
   ]
  },
  {
   "cell_type": "code",
   "execution_count": 38,
   "id": "560fc7fe",
   "metadata": {},
   "outputs": [],
   "source": [
    "from sklearn.model_selection import train_test_split"
   ]
  },
  {
   "cell_type": "code",
   "execution_count": 39,
   "id": "ae771153",
   "metadata": {},
   "outputs": [],
   "source": [
    "X = data.drop('TenYearCHD',axis=1)\n",
    "y = data.TenYearCHD"
   ]
  },
  {
   "cell_type": "code",
   "execution_count": 40,
   "id": "0bb4663a",
   "metadata": {},
   "outputs": [],
   "source": [
    "X_train, X_test, y_train, y_test = train_test_split(X,y,test_size=0.2)"
   ]
  },
  {
   "cell_type": "markdown",
   "id": "e69f5df2",
   "metadata": {},
   "source": [
    "Mutual Information Classifier compares features to the target for possible correlation."
   ]
  },
  {
   "cell_type": "code",
   "execution_count": 46,
   "id": "e2704ce6",
   "metadata": {},
   "outputs": [
    {
     "data": {
      "text/plain": [
       "age                0.035300\n",
       "sysBP              0.027478\n",
       "prevalentHyp       0.013586\n",
       "education          0.012323\n",
       "diaBP              0.011366\n",
       "glucose            0.010958\n",
       "BMI                0.008865\n",
       "totChol            0.006091\n",
       "No_Diabetes        0.002764\n",
       "Non_Smoker         0.002464\n",
       "BPMeds             0.001132\n",
       "heartRate          0.000891\n",
       "cigsPerDay         0.000000\n",
       "prevalentStroke    0.000000\n",
       "sex                0.000000\n",
       "Name: mutual_info, dtype: float64"
      ]
     },
     "execution_count": 46,
     "metadata": {},
     "output_type": "execute_result"
    }
   ],
   "source": [
    "from sklearn.feature_selection import mutual_info_classif\n",
    "mutual_info = mutual_info_classif(X,y)\n",
    "mutual_info = pd.Series(mutual_info, name=\"mutual_info\", index=X.columns)\n",
    "mutual_info.sort_values(ascending=False)"
   ]
  },
  {
   "cell_type": "code",
   "execution_count": 47,
   "id": "0068d53a",
   "metadata": {},
   "outputs": [],
   "source": [
    "from sklearn.ensemble import RandomForestClassifier"
   ]
  },
  {
   "cell_type": "code",
   "execution_count": 51,
   "id": "0290d3f9",
   "metadata": {},
   "outputs": [],
   "source": [
    "model = RandomForestClassifier(n_estimators=50)"
   ]
  },
  {
   "cell_type": "code",
   "execution_count": 52,
   "id": "4289f4d0",
   "metadata": {},
   "outputs": [
    {
     "data": {
      "text/plain": [
       "RandomForestClassifier(n_estimators=50)"
      ]
     },
     "execution_count": 52,
     "metadata": {},
     "output_type": "execute_result"
    }
   ],
   "source": [
    "model.fit(X_train,y_train)"
   ]
  },
  {
   "cell_type": "code",
   "execution_count": 53,
   "id": "d64d6d17",
   "metadata": {},
   "outputs": [
    {
     "data": {
      "text/plain": [
       "0.8548972188633616"
      ]
     },
     "execution_count": 53,
     "metadata": {},
     "output_type": "execute_result"
    }
   ],
   "source": [
    "model.score(X_test,y_test)"
   ]
  },
  {
   "cell_type": "code",
   "execution_count": 56,
   "id": "e884a42b",
   "metadata": {},
   "outputs": [],
   "source": [
    "import pickle\n",
    "with open ('heartprediction.pickle','wb') as f:\n",
    "    pickle.dump(model,f)"
   ]
  },
  {
   "cell_type": "code",
   "execution_count": 59,
   "id": "f47f1a76",
   "metadata": {},
   "outputs": [],
   "source": [
    "import json\n",
    "columns = {\n",
    "        'data_columns':[col.lower() for col in X.columns]\n",
    "}\n",
    "with open(\"heartpredictioncolumns.json\",\"w\") as f:\n",
    "    f.write(json.dumps(columns))"
   ]
  },
  {
   "cell_type": "code",
   "execution_count": null,
   "id": "5ae127ce",
   "metadata": {},
   "outputs": [],
   "source": []
  }
 ],
 "metadata": {
  "kernelspec": {
   "display_name": "Python 3",
   "language": "python",
   "name": "python3"
  },
  "language_info": {
   "codemirror_mode": {
    "name": "ipython",
    "version": 3
   },
   "file_extension": ".py",
   "mimetype": "text/x-python",
   "name": "python",
   "nbconvert_exporter": "python",
   "pygments_lexer": "ipython3",
   "version": "3.8.8"
  }
 },
 "nbformat": 4,
 "nbformat_minor": 5
}
